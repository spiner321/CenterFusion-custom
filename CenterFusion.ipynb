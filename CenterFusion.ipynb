{
 "cells": [
  {
   "attachments": {},
   "cell_type": "markdown",
   "metadata": {},
   "source": [
    "# # Prepare Data\n",
    "---"
   ]
  },
  {
   "cell_type": "code",
   "execution_count": null,
   "metadata": {},
   "outputs": [],
   "source": [
    "%cd /data/kimgh/CenterFusion-custom/CenterFusion-static/src/tools\n",
    "\n",
    "!python convert_nia.py"
   ]
  },
  {
   "attachments": {},
   "cell_type": "markdown",
   "metadata": {},
   "source": [
    "# # train\n",
    "---"
   ]
  },
  {
   "cell_type": "code",
   "execution_count": 17,
   "metadata": {},
   "outputs": [
    {
     "name": "stdout",
     "output_type": "stream",
     "text": [
      "/data/kimgh/CenterFusion-custom/CenterFusion-static\n",
      "Using tensorboardX\n",
      "Fix size testing.\n",
      "training chunk_sizes: [48]\n",
      "input h w: 448 800\n",
      "heads {'hm': 7, 'reg': 2, 'wh': 2, 'dep': 1, 'rot': 8, 'dim': 3, 'amodel_offset': 2, 'dep_sec': 1, 'rot_sec': 8}\n",
      "weights {'hm': 1, 'reg': 1, 'wh': 0.1, 'dep': 1, 'rot': 1, 'dim': 1, 'amodel_offset': 1, 'dep_sec': 1, 'rot_sec': 1}\n",
      "head conv {'hm': [256], 'reg': [256], 'wh': [256], 'dep': [256], 'rot': [256], 'dim': [256], 'amodel_offset': [256], 'dep_sec': [256, 256, 256], 'rot_sec': [256, 256, 256]}\n",
      "Creating model...\n",
      "Using node type: (<class 'model.networks.dla.DeformConv'>, <class 'model.networks.dla.DeformConv'>)\n"
     ]
    }
   ],
   "source": [
    "%cd /data/kimgh/CenterFusion-custom/CenterFusion-static\n",
    "\n",
    "!bash train_nia.sh"
   ]
  },
  {
   "cell_type": "code",
   "execution_count": null,
   "metadata": {},
   "outputs": [],
   "source": [
    "%cd /data/kimgh/CenterFusion-custom/CenterFusion-static\n",
    "\n",
    "!python src/main.py \\\n",
    "    ddd \\\n",
    "    --exp_id centerfusion \\\n",
    "    --shuffle_train \\\n",
    "    --train_split train \\\n",
    "    --val_split val \\\n",
    "    --val_intervals 1 \\\n",
    "    --nuscenes_att \\\n",
    "    --velocity \\\n",
    "    --batch_size 48 \\\n",
    "    --lr 2.5e-4 \\\n",
    "    --num_epochs 100 \\\n",
    "    --lr_step 50 \\\n",
    "    --save_all \\\n",
    "    --gpus 0 \\\n",
    "    --not_rand_crop \\\n",
    "    --flip 0.5 \\\n",
    "    --shift 0.1 \\\n",
    "    --pointcloud \\\n",
    "    --radar_sweeps 3 \\\n",
    "    --pc_z_offset 0.0 \\\n",
    "    --pillar_dims 1.0,0.2,0.2 \\\n",
    "    --max_pc_dist 80.0 \\\n",
    "    --print_iter 50 \\\n",
    "    --data_dir /data/kimgh/CenterFusion-custom/CenterFusion-static/data/all \\\n",
    "    --save_dir /data/kimgh/CenterFusion-custom/CenterFusion-static/result/all/train"
   ]
  },
  {
   "attachments": {},
   "cell_type": "markdown",
   "metadata": {},
   "source": [
    "# # validation\n",
    "---"
   ]
  },
  {
   "cell_type": "code",
   "execution_count": 11,
   "metadata": {},
   "outputs": [
    {
     "name": "stdout",
     "output_type": "stream",
     "text": [
      "[Errno 2] No such file or directory: '/data/kimgh/CenterFusion-custom/CenterFusion-static/src/tools/nuscenes_devkit/python_sdk/nuscenes/eval/detection'\n",
      "/data/kimgh/CenterFusion-custom/CenterFusion-static/src/tools/nuscenes_devkit/python_sdk/nuscenes/eval/detection\n"
     ]
    },
    {
     "data": {
      "text/plain": [
       "'!python evaluate_nia.py --ann_path /data/kimgh/CenterFusion-custom/CenterFusion-static/data/all/annotations/test_normal.json --result_path /data/kimgh/CenterFusion-custom/CenterFusion-static/result/all/test/normal_epoch63/results_nia_det_test_norm.json --output_dir /data/kimgh/CenterFusion-custom/CenterFusion-static/result/all/test/normal_epoch63'"
      ]
     },
     "execution_count": 11,
     "metadata": {},
     "output_type": "execute_result"
    }
   ],
   "source": [
    "%cd /data/kimgh/CenterFusion-custom/CenterFusion-static/src\n",
    "\n",
    "ann_path = '/data/kimgh/CenterFusion-custom/CenterFusion-static/data/all/annotations/test_normal.json'\n",
    "result_path = '/data/kimgh/CenterFusion-custom/CenterFusion-static/result/all/test/normal_epoch63/results_nia_det_test_norm.json'\n",
    "output_dir = '/data/kimgh/CenterFusion-custom/CenterFusion-static/result/all/test/normal_epoch63'\n",
    "\n",
    "f'!python -m tools.nuscenes.eval.detection.evaluate_nia --ann_path {ann_path} --result_path {result_path} --output_dir {output_dir}'"
   ]
  },
  {
   "attachments": {},
   "cell_type": "markdown",
   "metadata": {},
   "source": [
    "## # test\n",
    "---"
   ]
  },
  {
   "cell_type": "code",
   "execution_count": null,
   "metadata": {},
   "outputs": [],
   "source": [
    "%cd /data/kimgh/CenterFusion-custom/CenterFusion-static\n",
    "\n",
    "!bash test_nia.sh"
   ]
  },
  {
   "cell_type": "code",
   "execution_count": null,
   "metadata": {},
   "outputs": [],
   "source": [
    "%cd /data/kimgh/CenterFusion-custom/CenterFusion-static\n",
    "\n",
    "!python src/test.py ddd \\\n",
    "    --dataset nia \\\n",
    "    --gpus 0 \\\n",
    "    --val_split test_norm \\\n",
    "    --run_dataset_eval \\\n",
    "    --nuscenes_att \\\n",
    "    --velocity \\\n",
    "    --pointcloud \\\n",
    "    --data_dir /data/kimgh/CenterFusion-custom/CenterFusion-static/data/sample \\\n",
    "    --save_dir /data/kimgh/CenterFusion-custom/CenterFusion-static/result/test/pretrain \\\n",
    "    --load_model ./models/centerfusion.pth \\\n",
    "    # --resume \\"
   ]
  }
 ],
 "metadata": {
  "kernelspec": {
   "display_name": "nia48_310",
   "language": "python",
   "name": "python3"
  },
  "language_info": {
   "codemirror_mode": {
    "name": "ipython",
    "version": 3
   },
   "file_extension": ".py",
   "mimetype": "text/x-python",
   "name": "python",
   "nbconvert_exporter": "python",
   "pygments_lexer": "ipython3",
   "version": "3.10.0"
  },
  "orig_nbformat": 4
 },
 "nbformat": 4,
 "nbformat_minor": 2
}
